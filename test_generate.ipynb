{
 "cells": [
  {
   "cell_type": "code",
   "execution_count": null,
   "metadata": {},
   "outputs": [],
   "source": [
    "import pandas as pd\n",
    "import matplotlib.pyplot as plt\n",
    "import numpy as np"
   ]
  },
  {
   "cell_type": "code",
   "execution_count": null,
   "metadata": {},
   "outputs": [],
   "source": [
    "data = pd.read_csv('../logs/fig_1_20230404-061612.csv')\n",
    "data"
   ]
  },
  {
   "cell_type": "code",
   "execution_count": null,
   "metadata": {},
   "outputs": [],
   "source": [
    "reads = data[data[\"Operation\"] == \"READ\"]\n",
    "reads_base = reads[reads[\"Ratio\"] == 1]\n",
    "reads_test = reads[reads[\"Ratio\"] < 1]\n",
    "full_baseline_reads = data[data[\"Operation\"] == \"READ NO MONKEY\"]\n",
    "\n",
    "plt.plot(reads_test.loc[:, \"Size (MB)\"], reads_test.loc[:, \"Latency\"], marker= 'o', color=\"red\")\n",
    "plt.plot(reads_base.loc[:, \"Size (MB)\"], reads_base.loc[:, \"Latency\"], marker='x', color=\"black\")\n",
    "plt.plot(full_baseline_reads.loc[:, \"Size (MB)\"], full_baseline_reads.loc[:, \"Latency\"], marker='x', color=\"green\")\n",
    "\n",
    "\n",
    "plt.title(\"Point Read Latency vs Database Size\")\n",
    "plt.xlabel(\"Database Size (MB)\")\n",
    "plt.ylabel(\"Average Read Latency (microseconds)\")\n",
    "plt.legend([\"Autumn\", \"Baseline + Monkey\", \"Baseline\"])\n",
    "# # plt.savefig(\"final_figs/read_vs_size.jpg\", bbox_inches=\"tight\")\n",
    "\n",
    "full_baseline_reads"
   ]
  },
  {
   "cell_type": "code",
   "execution_count": null,
   "metadata": {},
   "outputs": [],
   "source": []
  },
  {
   "cell_type": "code",
   "execution_count": null,
   "metadata": {},
   "outputs": [],
   "source": [
    "reads = data[data[\"Operation\"] == \"SHORT SCAN\"]\n",
    "reads_base = reads[reads[\"Ratio\"] == 1]\n",
    "reads_test = reads[reads[\"Ratio\"] < 1]\n",
    "\n",
    "plt.plot(reads_test.loc[:, \"Size (MB)\"], reads_test.loc[:, \"Latency\"], marker= 'o', color=\"red\")\n",
    "plt.plot(reads_base.loc[:, \"Size (MB)\"], reads_base.loc[:, \"Latency\"], marker='x', color=\"black\")\n",
    "\n",
    "\n",
    "plt.title(\"Short Scan Latency vs Database Size\")\n",
    "plt.xlabel(\"Database Size (MB)\")\n",
    "plt.ylabel(\"Average Read Latency (microseconds)\")\n",
    "plt.legend([\"Autumn\", \"Baseline\"])\n",
    "# plt.savefig(\"final_figs/read_vs_size.jpg\", bbox_inches=\"tight\")"
   ]
  },
  {
   "cell_type": "code",
   "execution_count": null,
   "metadata": {},
   "outputs": [],
   "source": [
    "reads = data[data[\"Operation\"] == \"LONG SCAN\"]\n",
    "reads_base = reads[reads[\"Ratio\"] == 1]\n",
    "reads_test = reads[reads[\"Ratio\"] < 1]\n",
    "\n",
    "plt.plot(reads_test.loc[:, \"Size (MB)\"], reads_test.loc[:, \"Latency\"], marker= 'o', color=\"red\")\n",
    "plt.plot(reads_base.loc[:, \"Size (MB)\"], reads_base.loc[:, \"Latency\"], marker='x', color=\"black\")\n",
    "\n",
    "\n",
    "plt.title(\"Long Scan Latency vs Database Size\")\n",
    "plt.xlabel(\"Database Size (MB)\")\n",
    "plt.ylabel(\"Average Read Latency (microseconds)\")\n",
    "plt.legend([\"Autumn\", \"Baseline\"])\n",
    "# plt.savefig(\"final_figs/read_vs_size.jpg\", bbox_inches=\"tight\")"
   ]
  },
  {
   "cell_type": "code",
   "execution_count": null,
   "metadata": {},
   "outputs": [],
   "source": [
    "reads = data[data[\"Operation\"] == \"WRITE\"]\n",
    "reads_base = reads[reads[\"Ratio\"] == 1]\n",
    "reads_test = reads[reads[\"Ratio\"] < 1]\n",
    "\n",
    "plt.plot(reads_test.loc[:, \"Size (MB)\"], reads_test.loc[:, \"Latency\"], marker= 'o', color=\"red\")\n",
    "plt.plot(reads_base.loc[:, \"Size (MB)\"], reads_base.loc[:, \"Latency\"], marker='x', color=\"black\")\n",
    "\n",
    "\n",
    "plt.title(\"Write Latency vs Database Size\")\n",
    "plt.xlabel(\"Database Size (MB)\")\n",
    "plt.ylabel(\"Average Write Latency (microseconds)\")\n",
    "plt.legend([\"Autumn\", \"Baseline\"])\n",
    "# plt.savefig(\"final_figs/read_vs_size.jpg\", bbox_inches=\"tight\")"
   ]
  },
  {
   "cell_type": "code",
   "execution_count": null,
   "metadata": {},
   "outputs": [],
   "source": []
  },
  {
   "cell_type": "code",
   "execution_count": null,
   "metadata": {},
   "outputs": [],
   "source": []
  },
  {
   "cell_type": "code",
   "execution_count": null,
   "metadata": {},
   "outputs": [],
   "source": [
    "data2 = pd.read_csv('../logs/space_amp_20230329-192055.csv')\n",
    "data2\n"
   ]
  },
  {
   "cell_type": "code",
   "execution_count": null,
   "metadata": {},
   "outputs": [],
   "source": [
    "base = data2[data2[\"Ratio\"] == 1]\n",
    "test = data2[data2[\"Ratio\"] < 1]\n",
    "\n",
    "plt.plot(test.loc[:, \"Value Size\"], test.loc[:, \"Actual Size\"], marker= 'o', color=\"red\")\n",
    "plt.plot(base.loc[:, \"Value Size\"], base.loc[:, \"Actual Size\"], marker='x', color=\"black\")\n",
    "\n",
    "\n",
    "plt.title(\"Value Size vs DB Size\")\n",
    "plt.xlabel(\"Value Size (bytes)\")\n",
    "plt.ylabel(\"Actual Database Size (bytes)\")\n",
    "plt.legend([\"Autumn\", \"Baseline\"])"
   ]
  },
  {
   "cell_type": "code",
   "execution_count": null,
   "metadata": {},
   "outputs": [],
   "source": []
  }
 ],
 "metadata": {
  "kernelspec": {
   "display_name": "datascience",
   "language": "python",
   "name": "python3"
  },
  "language_info": {
   "codemirror_mode": {
    "name": "ipython",
    "version": 3
   },
   "file_extension": ".py",
   "mimetype": "text/x-python",
   "name": "python",
   "nbconvert_exporter": "python",
   "pygments_lexer": "ipython3",
   "version": "3.7.16"
  },
  "orig_nbformat": 4,
  "vscode": {
   "interpreter": {
    "hash": "f529364f962c46b29bee8dbbead620c82c5e29dc2d772ca80d5b84ed0057240a"
   }
  }
 },
 "nbformat": 4,
 "nbformat_minor": 2
}
